{
 "cells": [
  {
   "cell_type": "code",
   "execution_count": 1,
   "id": "52eb2eea-92f5-4bec-b029-6f2cdd87a87c",
   "metadata": {},
   "outputs": [],
   "source": [
    "import pandas as pd"
   ]
  },
  {
   "cell_type": "markdown",
   "id": "70ada238-005b-4e20-aa43-128129bd3ff2",
   "metadata": {},
   "source": [
    "## Load the raw dataset"
   ]
  },
  {
   "cell_type": "code",
   "execution_count": 2,
   "id": "4ee4d208-2dd1-40f5-9194-7b4c55681e83",
   "metadata": {},
   "outputs": [],
   "source": [
    "df = pd.read_csv(\"sales_data_raw.csv\") "
   ]
  },
  {
   "cell_type": "code",
   "execution_count": 4,
   "id": "21435adc-b057-4813-85c9-9418e69bc26c",
   "metadata": {},
   "outputs": [
    {
     "data": {
      "text/html": [
       "<div>\n",
       "<style scoped>\n",
       "    .dataframe tbody tr th:only-of-type {\n",
       "        vertical-align: middle;\n",
       "    }\n",
       "\n",
       "    .dataframe tbody tr th {\n",
       "        vertical-align: top;\n",
       "    }\n",
       "\n",
       "    .dataframe thead th {\n",
       "        text-align: right;\n",
       "    }\n",
       "</style>\n",
       "<table border=\"1\" class=\"dataframe\">\n",
       "  <thead>\n",
       "    <tr style=\"text-align: right;\">\n",
       "      <th></th>\n",
       "      <th>Sales Person</th>\n",
       "      <th>Country</th>\n",
       "      <th>Product</th>\n",
       "      <th>Date</th>\n",
       "      <th>Amount</th>\n",
       "      <th>Boxes Shipped</th>\n",
       "    </tr>\n",
       "  </thead>\n",
       "  <tbody>\n",
       "    <tr>\n",
       "      <th>0</th>\n",
       "      <td>Jehu Rudeforth</td>\n",
       "      <td>UK</td>\n",
       "      <td>Mint Chip Choco</td>\n",
       "      <td>04-Jan-22</td>\n",
       "      <td>$5,320</td>\n",
       "      <td>180</td>\n",
       "    </tr>\n",
       "    <tr>\n",
       "      <th>1</th>\n",
       "      <td>Van Tuxwell</td>\n",
       "      <td>India</td>\n",
       "      <td>85% Dark Bars</td>\n",
       "      <td>01-Aug-22</td>\n",
       "      <td>$7,896</td>\n",
       "      <td>94</td>\n",
       "    </tr>\n",
       "    <tr>\n",
       "      <th>2</th>\n",
       "      <td>Gigi Bohling</td>\n",
       "      <td>India</td>\n",
       "      <td>Peanut Butter Cubes</td>\n",
       "      <td>07-Jul-22</td>\n",
       "      <td>$4,501</td>\n",
       "      <td>91</td>\n",
       "    </tr>\n",
       "    <tr>\n",
       "      <th>3</th>\n",
       "      <td>Jan Morforth</td>\n",
       "      <td>Australia</td>\n",
       "      <td>Peanut Butter Cubes</td>\n",
       "      <td>27-Apr-22</td>\n",
       "      <td>$12,726</td>\n",
       "      <td>342</td>\n",
       "    </tr>\n",
       "    <tr>\n",
       "      <th>4</th>\n",
       "      <td>Jehu Rudeforth</td>\n",
       "      <td>UK</td>\n",
       "      <td>Peanut Butter Cubes</td>\n",
       "      <td>24-Feb-22</td>\n",
       "      <td>$13,685</td>\n",
       "      <td>184</td>\n",
       "    </tr>\n",
       "    <tr>\n",
       "      <th>5</th>\n",
       "      <td>Van Tuxwell</td>\n",
       "      <td>India</td>\n",
       "      <td>Smooth Sliky Salty</td>\n",
       "      <td>06-Jun-22</td>\n",
       "      <td>$5,376</td>\n",
       "      <td>38</td>\n",
       "    </tr>\n",
       "    <tr>\n",
       "      <th>6</th>\n",
       "      <td>Oby Sorrel</td>\n",
       "      <td>UK</td>\n",
       "      <td>99% Dark &amp; Pure</td>\n",
       "      <td>25-Jan-22</td>\n",
       "      <td>$13,685</td>\n",
       "      <td>176</td>\n",
       "    </tr>\n",
       "    <tr>\n",
       "      <th>7</th>\n",
       "      <td>Gunar Cockshoot</td>\n",
       "      <td>Australia</td>\n",
       "      <td>After Nines</td>\n",
       "      <td>24-Mar-22</td>\n",
       "      <td>$3,080</td>\n",
       "      <td>73</td>\n",
       "    </tr>\n",
       "    <tr>\n",
       "      <th>8</th>\n",
       "      <td>Jehu Rudeforth</td>\n",
       "      <td>New Zealand</td>\n",
       "      <td>50% Dark Bites</td>\n",
       "      <td>20-Apr-22</td>\n",
       "      <td>$3,990</td>\n",
       "      <td>59</td>\n",
       "    </tr>\n",
       "    <tr>\n",
       "      <th>9</th>\n",
       "      <td>Brien Boise</td>\n",
       "      <td>Australia</td>\n",
       "      <td>99% Dark &amp; Pure</td>\n",
       "      <td>04-Jul-22</td>\n",
       "      <td>$2,835</td>\n",
       "      <td>102</td>\n",
       "    </tr>\n",
       "  </tbody>\n",
       "</table>\n",
       "</div>"
      ],
      "text/plain": [
       "      Sales Person      Country              Product       Date    Amount  \\\n",
       "0   Jehu Rudeforth           UK      Mint Chip Choco  04-Jan-22   $5,320    \n",
       "1      Van Tuxwell        India        85% Dark Bars  01-Aug-22   $7,896    \n",
       "2     Gigi Bohling        India  Peanut Butter Cubes  07-Jul-22   $4,501    \n",
       "3     Jan Morforth    Australia  Peanut Butter Cubes  27-Apr-22  $12,726    \n",
       "4   Jehu Rudeforth           UK  Peanut Butter Cubes  24-Feb-22  $13,685    \n",
       "5      Van Tuxwell        India   Smooth Sliky Salty  06-Jun-22   $5,376    \n",
       "6       Oby Sorrel           UK      99% Dark & Pure  25-Jan-22  $13,685    \n",
       "7  Gunar Cockshoot    Australia          After Nines  24-Mar-22   $3,080    \n",
       "8   Jehu Rudeforth  New Zealand       50% Dark Bites  20-Apr-22   $3,990    \n",
       "9      Brien Boise    Australia      99% Dark & Pure  04-Jul-22   $2,835    \n",
       "\n",
       "   Boxes Shipped  \n",
       "0            180  \n",
       "1             94  \n",
       "2             91  \n",
       "3            342  \n",
       "4            184  \n",
       "5             38  \n",
       "6            176  \n",
       "7             73  \n",
       "8             59  \n",
       "9            102  "
      ]
     },
     "execution_count": 4,
     "metadata": {},
     "output_type": "execute_result"
    }
   ],
   "source": [
    "df.head(10)"
   ]
  },
  {
   "cell_type": "code",
   "execution_count": 5,
   "id": "08021d48-657a-4cfb-9257-8a9adcce53fc",
   "metadata": {},
   "outputs": [
    {
     "name": "stdout",
     "output_type": "stream",
     "text": [
      "<class 'pandas.core.frame.DataFrame'>\n",
      "RangeIndex: 1094 entries, 0 to 1093\n",
      "Data columns (total 6 columns):\n",
      " #   Column         Non-Null Count  Dtype \n",
      "---  ------         --------------  ----- \n",
      " 0   Sales Person   1094 non-null   object\n",
      " 1   Country        1094 non-null   object\n",
      " 2   Product        1094 non-null   object\n",
      " 3   Date           1094 non-null   object\n",
      " 4   Amount         1094 non-null   object\n",
      " 5   Boxes Shipped  1094 non-null   int64 \n",
      "dtypes: int64(1), object(5)\n",
      "memory usage: 51.4+ KB\n"
     ]
    }
   ],
   "source": [
    "df.info()"
   ]
  },
  {
   "cell_type": "markdown",
   "id": "c71da2b2-bcb1-42fd-aa21-790f4460b38c",
   "metadata": {},
   "source": [
    "## Display basic info"
   ]
  },
  {
   "cell_type": "code",
   "execution_count": 6,
   "id": "c86aba57-6809-46ca-898f-65576ec2a3b6",
   "metadata": {},
   "outputs": [
    {
     "name": "stdout",
     "output_type": "stream",
     "text": [
      "Original Data Info:\n",
      "<class 'pandas.core.frame.DataFrame'>\n",
      "RangeIndex: 1094 entries, 0 to 1093\n",
      "Data columns (total 6 columns):\n",
      " #   Column         Non-Null Count  Dtype \n",
      "---  ------         --------------  ----- \n",
      " 0   Sales Person   1094 non-null   object\n",
      " 1   Country        1094 non-null   object\n",
      " 2   Product        1094 non-null   object\n",
      " 3   Date           1094 non-null   object\n",
      " 4   Amount         1094 non-null   object\n",
      " 5   Boxes Shipped  1094 non-null   int64 \n",
      "dtypes: int64(1), object(5)\n",
      "memory usage: 51.4+ KB\n",
      "None\n",
      "\n",
      "Missing values:\n",
      " Sales Person     0\n",
      "Country          0\n",
      "Product          0\n",
      "Date             0\n",
      "Amount           0\n",
      "Boxes Shipped    0\n",
      "dtype: int64\n"
     ]
    }
   ],
   "source": [
    "print(\"Original Data Info:\")\n",
    "print(df.info())\n",
    "print(\"\\nMissing values:\\n\", df.isnull().sum())\n"
   ]
  },
  {
   "cell_type": "markdown",
   "id": "dfbdc3ce-ad60-410d-a3b1-ef61f93983f1",
   "metadata": {},
   "source": [
    "## Remove duplicates"
   ]
  },
  {
   "cell_type": "code",
   "execution_count": 7,
   "id": "5aa35b3d-715b-4c68-8b85-1d93b922ed54",
   "metadata": {},
   "outputs": [],
   "source": [
    "df.drop_duplicates(inplace=True)"
   ]
  },
  {
   "cell_type": "markdown",
   "id": "1d258452-f82a-4ae6-85ec-996513751a42",
   "metadata": {},
   "source": [
    "## Convert Date column to datetime"
   ]
  },
  {
   "cell_type": "code",
   "execution_count": 8,
   "id": "35e7cf4f-a89e-4542-8922-62256265b599",
   "metadata": {},
   "outputs": [
    {
     "name": "stderr",
     "output_type": "stream",
     "text": [
      "C:\\Users\\ahmed\\AppData\\Local\\Temp\\ipykernel_1440\\590873801.py:1: UserWarning: Could not infer format, so each element will be parsed individually, falling back to `dateutil`. To ensure parsing is consistent and as-expected, please specify a format.\n",
      "  df['Date'] = pd.to_datetime(df['Date'], errors='coerce', dayfirst=True)  # Modify if mm/dd/yyyy\n"
     ]
    }
   ],
   "source": [
    "df['Date'] = pd.to_datetime(df['Date'], errors='coerce', dayfirst=True)  # Modify if mm/dd/yyyy"
   ]
  },
  {
   "cell_type": "code",
   "execution_count": 9,
   "id": "53b8e2e2-cf66-49e0-9207-d61012a06992",
   "metadata": {},
   "outputs": [
    {
     "data": {
      "text/html": [
       "<div>\n",
       "<style scoped>\n",
       "    .dataframe tbody tr th:only-of-type {\n",
       "        vertical-align: middle;\n",
       "    }\n",
       "\n",
       "    .dataframe tbody tr th {\n",
       "        vertical-align: top;\n",
       "    }\n",
       "\n",
       "    .dataframe thead th {\n",
       "        text-align: right;\n",
       "    }\n",
       "</style>\n",
       "<table border=\"1\" class=\"dataframe\">\n",
       "  <thead>\n",
       "    <tr style=\"text-align: right;\">\n",
       "      <th></th>\n",
       "      <th>Sales Person</th>\n",
       "      <th>Country</th>\n",
       "      <th>Product</th>\n",
       "      <th>Date</th>\n",
       "      <th>Amount</th>\n",
       "      <th>Boxes Shipped</th>\n",
       "    </tr>\n",
       "  </thead>\n",
       "  <tbody>\n",
       "    <tr>\n",
       "      <th>0</th>\n",
       "      <td>Jehu Rudeforth</td>\n",
       "      <td>UK</td>\n",
       "      <td>Mint Chip Choco</td>\n",
       "      <td>2022-01-04</td>\n",
       "      <td>$5,320</td>\n",
       "      <td>180</td>\n",
       "    </tr>\n",
       "    <tr>\n",
       "      <th>1</th>\n",
       "      <td>Van Tuxwell</td>\n",
       "      <td>India</td>\n",
       "      <td>85% Dark Bars</td>\n",
       "      <td>2022-08-01</td>\n",
       "      <td>$7,896</td>\n",
       "      <td>94</td>\n",
       "    </tr>\n",
       "    <tr>\n",
       "      <th>2</th>\n",
       "      <td>Gigi Bohling</td>\n",
       "      <td>India</td>\n",
       "      <td>Peanut Butter Cubes</td>\n",
       "      <td>2022-07-07</td>\n",
       "      <td>$4,501</td>\n",
       "      <td>91</td>\n",
       "    </tr>\n",
       "    <tr>\n",
       "      <th>3</th>\n",
       "      <td>Jan Morforth</td>\n",
       "      <td>Australia</td>\n",
       "      <td>Peanut Butter Cubes</td>\n",
       "      <td>2022-04-27</td>\n",
       "      <td>$12,726</td>\n",
       "      <td>342</td>\n",
       "    </tr>\n",
       "    <tr>\n",
       "      <th>4</th>\n",
       "      <td>Jehu Rudeforth</td>\n",
       "      <td>UK</td>\n",
       "      <td>Peanut Butter Cubes</td>\n",
       "      <td>2022-02-24</td>\n",
       "      <td>$13,685</td>\n",
       "      <td>184</td>\n",
       "    </tr>\n",
       "  </tbody>\n",
       "</table>\n",
       "</div>"
      ],
      "text/plain": [
       "     Sales Person    Country              Product       Date    Amount  \\\n",
       "0  Jehu Rudeforth         UK      Mint Chip Choco 2022-01-04   $5,320    \n",
       "1     Van Tuxwell      India        85% Dark Bars 2022-08-01   $7,896    \n",
       "2    Gigi Bohling      India  Peanut Butter Cubes 2022-07-07   $4,501    \n",
       "3    Jan Morforth  Australia  Peanut Butter Cubes 2022-04-27  $12,726    \n",
       "4  Jehu Rudeforth         UK  Peanut Butter Cubes 2022-02-24  $13,685    \n",
       "\n",
       "   Boxes Shipped  \n",
       "0            180  \n",
       "1             94  \n",
       "2             91  \n",
       "3            342  \n",
       "4            184  "
      ]
     },
     "execution_count": 9,
     "metadata": {},
     "output_type": "execute_result"
    }
   ],
   "source": [
    "df.head()"
   ]
  },
  {
   "cell_type": "markdown",
   "id": "8bc95147-c91b-4f45-89d6-22f75b70628c",
   "metadata": {},
   "source": [
    "## Fix data types"
   ]
  },
  {
   "cell_type": "code",
   "execution_count": 11,
   "id": "5fadda1a-968f-4f7e-ad58-268a7e9406e7",
   "metadata": {},
   "outputs": [],
   "source": [
    "df['Amount'] = pd.to_numeric(df['Amount'], errors='coerce')\n",
    "df['Boxes Shipped'] = pd.to_numeric(df['Boxes Shipped'], errors='coerce')"
   ]
  },
  {
   "cell_type": "code",
   "execution_count": 13,
   "id": "ab416450-c5c5-4bbe-b6ed-a545a83c2b33",
   "metadata": {},
   "outputs": [
    {
     "name": "stdout",
     "output_type": "stream",
     "text": [
      "<class 'pandas.core.frame.DataFrame'>\n",
      "RangeIndex: 1094 entries, 0 to 1093\n",
      "Data columns (total 6 columns):\n",
      " #   Column         Non-Null Count  Dtype         \n",
      "---  ------         --------------  -----         \n",
      " 0   Sales Person   1094 non-null   object        \n",
      " 1   Country        1094 non-null   object        \n",
      " 2   Product        1094 non-null   object        \n",
      " 3   Date           1094 non-null   datetime64[ns]\n",
      " 4   Amount         0 non-null      float64       \n",
      " 5   Boxes Shipped  1094 non-null   int64         \n",
      "dtypes: datetime64[ns](1), float64(1), int64(1), object(3)\n",
      "memory usage: 51.4+ KB\n"
     ]
    }
   ],
   "source": [
    "df.info()\n"
   ]
  },
  {
   "cell_type": "markdown",
   "id": "0a00616f-688c-463c-b62b-9a27377df03d",
   "metadata": {},
   "source": [
    "## Save cleaned data"
   ]
  },
  {
   "cell_type": "code",
   "execution_count": 14,
   "id": "f16b5fdd-a46f-417f-b55b-1e1b50ae19b0",
   "metadata": {},
   "outputs": [],
   "source": [
    "df.to_csv(\"cleaned_sales_data.csv\", index=False)"
   ]
  },
  {
   "cell_type": "code",
   "execution_count": null,
   "id": "47237a7e-22ee-49e8-9c8c-6b9f155e92b0",
   "metadata": {},
   "outputs": [],
   "source": []
  },
  {
   "cell_type": "markdown",
   "id": "dd5ad9df-9fa3-4c70-ae90-f0cb2fedb3e8",
   "metadata": {},
   "source": [
    "## Objective:"
   ]
  },
  {
   "cell_type": "markdown",
   "id": "476e810d-e676-45dc-8e9c-a5f3babc1d93",
   "metadata": {},
   "source": [
    "### To clean and prepare a raw sales dataset for further analysis by handling missing values, fixing inconsistent formats, correcting data types, and ensuring data integrity."
   ]
  },
  {
   "cell_type": "markdown",
   "id": "6b3594a5-331d-4dae-98ce-4e2a2bc2e568",
   "metadata": {},
   "source": [
    "## Dataset Columns:\n",
    "\n",
    "Sales Person\n",
    "\n",
    "Country\n",
    "\n",
    "Product\n",
    "\n",
    "Date\n",
    "\n",
    "Amount\n",
    "\n",
    "Boxes Shipped"
   ]
  },
  {
   "cell_type": "markdown",
   "id": "135158a7-67a6-4b59-b6b0-22d44b7209f0",
   "metadata": {},
   "source": [
    "## Cleaning Steps Performed:\n",
    "\n",
    "Loaded Dataset using pandas and displayed basic information.\n",
    "\n",
    "Removed Duplicate Records using .drop_duplicates() to avoid redundancy.\n",
    "\n",
    "Handled Missing Values by dropping rows with nulls using .dropna().\n",
    "\n",
    "Converted Date Formats to proper datetime format using pd.to_datetime().\n",
    "\n",
    "Saved the Cleaned Dataset to cleaned_sales_data.csv for future use.\n",
    "\n",
    " ### Output File:\n",
    "cleaned_sales_data.csv"
   ]
  },
  {
   "cell_type": "code",
   "execution_count": null,
   "id": "9b495865-fa25-456c-a215-ee26c096ff13",
   "metadata": {},
   "outputs": [],
   "source": []
  }
 ],
 "metadata": {
  "kernelspec": {
   "display_name": "Python 3 (ipykernel)",
   "language": "python",
   "name": "python3"
  },
  "language_info": {
   "codemirror_mode": {
    "name": "ipython",
    "version": 3
   },
   "file_extension": ".py",
   "mimetype": "text/x-python",
   "name": "python",
   "nbconvert_exporter": "python",
   "pygments_lexer": "ipython3",
   "version": "3.13.5"
  }
 },
 "nbformat": 4,
 "nbformat_minor": 5
}
